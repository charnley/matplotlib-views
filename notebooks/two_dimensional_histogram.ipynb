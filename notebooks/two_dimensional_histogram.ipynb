{
 "cells": [
  {
   "cell_type": "code",
   "execution_count": null,
   "id": "welsh-drama",
   "metadata": {},
   "outputs": [],
   "source": [
    "%load_ext autoreload\n",
    "%autoreload 2\n",
    "%matplotlib inline"
   ]
  },
  {
   "cell_type": "code",
   "execution_count": null,
   "id": "bacterial-generic",
   "metadata": {},
   "outputs": [],
   "source": [
    "import sys\n",
    "import pathlib"
   ]
  },
  {
   "cell_type": "code",
   "execution_count": null,
   "id": "white-pendant",
   "metadata": {},
   "outputs": [],
   "source": [
    "try:\n",
    "    import matplotlib_views as views\n",
    "except ModuleNotFoundError:\n",
    "    cwd = pathlib.Path().resolve().parent\n",
    "    sys.path.append(str(cwd))\n",
    "    import matplotlib_views as views"
   ]
  },
  {
   "cell_type": "code",
   "execution_count": null,
   "id": "interstate-sydney",
   "metadata": {},
   "outputs": [],
   "source": [
    "from matplotlib_views import histograms"
   ]
  },
  {
   "cell_type": "code",
   "execution_count": null,
   "id": "concrete-folks",
   "metadata": {},
   "outputs": [],
   "source": [
    "import numpy as np"
   ]
  },
  {
   "cell_type": "code",
   "execution_count": null,
   "id": "virgin-melbourne",
   "metadata": {},
   "outputs": [],
   "source": [
    "import matplotlib.pyplot as plt"
   ]
  },
  {
   "cell_type": "markdown",
   "id": "constant-deputy",
   "metadata": {},
   "source": [
    "## Create some fake data"
   ]
  },
  {
   "cell_type": "code",
   "execution_count": null,
   "id": "equivalent-expert",
   "metadata": {},
   "outputs": [],
   "source": [
    "def gauss_2d(mu, sigma):\n",
    "    x = np.random.normal(mu, sigma)\n",
    "    y = np.random.normal(mu, sigma)\n",
    "    return (x, y)\n",
    "\n",
    "def generate_random_points(mu, sigma, n_points=1_000):\n",
    "    \"\"\" Return array of X and Y values around mu and sigma \"\"\"\n",
    "    values = [gauss_2d(mu, sigma) for _ in range(n_points)]\n",
    "    values = np.asarray(values)\n",
    "    values = values.T\n",
    "    return values"
   ]
  },
  {
   "cell_type": "code",
   "execution_count": null,
   "id": "labeled-faculty",
   "metadata": {},
   "outputs": [],
   "source": []
  },
  {
   "cell_type": "code",
   "execution_count": null,
   "id": "raised-capability",
   "metadata": {},
   "outputs": [],
   "source": [
    "values1 = generate_random_points(1, 20) + 10\n",
    "values2 = generate_random_points(3, 50) + 40\n",
    "values3 = generate_random_points(3, 10, n_points=500) + 100"
   ]
  },
  {
   "cell_type": "code",
   "execution_count": null,
   "id": "moved-prior",
   "metadata": {},
   "outputs": [],
   "source": [
    "xvalues = list(values1[0]) + list(values2[0]) + list(values3[0])\n",
    "yvalues = list(values1[1]) + list(values2[1]) + list(values3[1])"
   ]
  },
  {
   "cell_type": "markdown",
   "id": "smooth-increase",
   "metadata": {},
   "source": [
    "## Create figure"
   ]
  },
  {
   "cell_type": "code",
   "execution_count": null,
   "id": "funded-ireland",
   "metadata": {},
   "outputs": [],
   "source": [
    "views.set_global_style()\n",
    "fig, ax = views.get_plot()\n",
    "histograms.two_dimensional_hex(ax, xvalues, yvalues)\n",
    "views.fix_borders(ax)\n",
    "ax.set_ylabel(\"Desc [unit]\")\n",
    "ax.set_xlabel(\"Desc [unit]\")\n",
    "pass"
   ]
  },
  {
   "cell_type": "markdown",
   "id": "sixth-worry",
   "metadata": {},
   "source": [
    "## Create histogram figure, but with KDE"
   ]
  },
  {
   "cell_type": "code",
   "execution_count": null,
   "id": "interesting-halifax",
   "metadata": {},
   "outputs": [],
   "source": [
    "from scipy.stats import gaussian_kde"
   ]
  },
  {
   "cell_type": "code",
   "execution_count": null,
   "id": "compatible-world",
   "metadata": {},
   "outputs": [],
   "source": [
    "from matplotlib.ticker import NullFormatter"
   ]
  },
  {
   "cell_type": "code",
   "execution_count": null,
   "id": "graduate-psychiatry",
   "metadata": {},
   "outputs": [],
   "source": [
    "# Define margins and relative dimensions\n",
    "left, width = 0.1, 0.65\n",
    "bottom, height = 0.1, 0.65\n",
    "bottom_h = left_h = left + width + 0.02\n",
    "\n",
    "# Define layout\n",
    "rect_scatter = [left, bottom, width, height]\n",
    "rect_histx = [left, bottom_h, width, 0.1]\n",
    "rect_histy = [left_h, bottom, 0.1, height]\n",
    "\n",
    "# Define axis and figures\n",
    "fig = plt.figure(figsize=(12, 12))\n",
    "ax_scatter = fig.add_axes(rect_scatter)\n",
    "ax_histx = fig.add_axes(rect_histx)\n",
    "ax_histy = fig.add_axes(rect_histy)\n",
    "\n",
    "# Fill in scatterplot / histogram\n",
    "histograms.two_dimensional_hex(ax_scatter, xvalues, yvalues)\n",
    "\n",
    "# Fill in KDE\n",
    "min_x, max_x, min_y, max_y = views.get_tick_limits(ax_scatter)\n",
    "\n",
    "bins = np.linspace(min_x, max_x, 300)\n",
    "gaussian_kernel = gaussian_kde(xvalues)\n",
    "values = gaussian_kernel(bins)\n",
    "ax_histx.plot(bins, values, \"k\", linewidth=1.0)\n",
    "\n",
    "bins = np.linspace(min_y, max_y, 300)\n",
    "gaussian_kernel = gaussian_kde(yvalues)\n",
    "values = gaussian_kernel(bins)\n",
    "ax_histy.plot(values, bins, \"k\", linewidth=1.0)\n",
    "\n",
    "# Fix borders\n",
    "nullfmt = NullFormatter()\n",
    "ax_histx.xaxis.set_major_formatter(nullfmt)\n",
    "ax_histy.yaxis.set_major_formatter(nullfmt)\n",
    "views.fix_borders(ax_histx, visibles=[False, False, False, False])\n",
    "views.fix_borders(ax_histy, visibles=[False, False, False, False])\n",
    "ax_histx.set_xticks([])\n",
    "ax_histx.set_yticks([])\n",
    "ax_histy.set_xticks([])\n",
    "ax_histy.set_yticks([])\n",
    "\n",
    "# Fix border of scatterplot\n",
    "views.fix_borders(ax_scatter)\n",
    "\n",
    "# Set labels\n",
    "ax_scatter.set_xlabel(\"Desc [unit]\")\n",
    "ax_scatter.set_ylabel(\"Desc [unit]\")\n",
    "\n",
    "pass"
   ]
  },
  {
   "cell_type": "code",
   "execution_count": null,
   "id": "behind-boulder",
   "metadata": {},
   "outputs": [],
   "source": []
  },
  {
   "cell_type": "code",
   "execution_count": null,
   "id": "modified-italic",
   "metadata": {},
   "outputs": [],
   "source": []
  },
  {
   "cell_type": "code",
   "execution_count": null,
   "id": "tutorial-month",
   "metadata": {},
   "outputs": [],
   "source": []
  },
  {
   "cell_type": "code",
   "execution_count": null,
   "id": "compound-relative",
   "metadata": {},
   "outputs": [],
   "source": []
  }
 ],
 "metadata": {
  "language_info": {
   "name": "python"
  }
 },
 "nbformat": 4,
 "nbformat_minor": 5
}
