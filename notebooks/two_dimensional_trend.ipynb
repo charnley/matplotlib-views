{
 "cells": [
  {
   "cell_type": "code",
   "execution_count": null,
   "id": "later-balance",
   "metadata": {},
   "outputs": [],
   "source": [
    "%load_ext autoreload\n",
    "%autoreload 2\n",
    "%matplotlib inline"
   ]
  },
  {
   "cell_type": "code",
   "execution_count": null,
   "id": "ongoing-housing",
   "metadata": {},
   "outputs": [],
   "source": [
    "import sys\n",
    "import pathlib"
   ]
  },
  {
   "cell_type": "code",
   "execution_count": null,
   "id": "adult-homework",
   "metadata": {},
   "outputs": [],
   "source": [
    "try:\n",
    "    import matplotlib_views as views\n",
    "except ModuleNotFoundError:\n",
    "    cwd = pathlib.Path().resolve().parent\n",
    "    sys.path.append(str(cwd))\n",
    "    import matplotlib_views as views"
   ]
  },
  {
   "cell_type": "code",
   "execution_count": null,
   "id": "automatic-gravity",
   "metadata": {},
   "outputs": [],
   "source": []
  },
  {
   "cell_type": "markdown",
   "id": "surrounded-resistance",
   "metadata": {},
   "source": [
    "## Create some fake data"
   ]
  },
  {
   "cell_type": "code",
   "execution_count": null,
   "id": "wanted-investigator",
   "metadata": {},
   "outputs": [],
   "source": []
  },
  {
   "cell_type": "code",
   "execution_count": null,
   "id": "indian-extra",
   "metadata": {},
   "outputs": [],
   "source": []
  },
  {
   "cell_type": "code",
   "execution_count": null,
   "id": "bronze-republic",
   "metadata": {},
   "outputs": [],
   "source": []
  },
  {
   "cell_type": "code",
   "execution_count": null,
   "id": "interesting-yesterday",
   "metadata": {},
   "outputs": [],
   "source": []
  },
  {
   "cell_type": "code",
   "execution_count": null,
   "id": "genuine-oregon",
   "metadata": {},
   "outputs": [],
   "source": []
  },
  {
   "cell_type": "code",
   "execution_count": null,
   "id": "exotic-clear",
   "metadata": {},
   "outputs": [],
   "source": []
  }
 ],
 "metadata": {
  "language_info": {
   "name": "python"
  }
 },
 "nbformat": 4,
 "nbformat_minor": 5
}
